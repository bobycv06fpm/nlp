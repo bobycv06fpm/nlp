{
 "cells": [
  {
   "cell_type": "code",
   "execution_count": 18,
   "metadata": {},
   "outputs": [],
   "source": [
    "import nltk\n",
    "from nltk.grammar import Production, Nonterminal\n",
    "from nltk import CFG\n",
    "import copy\n",
    "import numpy as np"
   ]
  },
  {
   "cell_type": "code",
   "execution_count": 2,
   "metadata": {},
   "outputs": [],
   "source": [
    "grammar = nltk.data.load(\"grammars/large_grammars/atis.cfg\")\n",
    "\n",
    "s = nltk.data.load(\"grammars/large_grammars/atis_sentences.txt\", \"raw\")\n",
    "\n",
    "t = nltk.parse.util.extract_test_sentences(s)"
   ]
  },
  {
   "cell_type": "code",
   "execution_count": 3,
   "metadata": {},
   "outputs": [],
   "source": [
    "CNF = nltk.data.load(\"./CNF.cfg\")"
   ]
  },
  {
   "cell_type": "code",
   "execution_count": 4,
   "metadata": {},
   "outputs": [],
   "source": [
    "parser = nltk.parse.BottomUpChartParser(CNF)"
   ]
  },
  {
   "cell_type": "code",
   "execution_count": 6,
   "metadata": {},
   "outputs": [],
   "source": [
    "a = parser.chart_parse(t[0][0])"
   ]
  },
  {
   "cell_type": "code",
   "execution_count": 13,
   "metadata": {},
   "outputs": [
    {
     "name": "stdout",
     "output_type": "stream",
     "text": [
      "Convert bracketed string into tree:\n",
      "(S (NP (DT the) (NN cat)) (VP (VBD ate) (NP (DT a) (NN cookie))))\n",
      "Tree('S', [Tree('NP', [Tree('DT', ['the']), Tree('NN', ['cat'])]), Tree('VP', [Tree('VBD', ['ate']), Tree('NP', [Tree('DT', ['a']), Tree('NN', ['cookie'])])])])\n",
      "Display tree properties:\n",
      "S\n",
      "(NP (DT the) (NN cat))\n",
      "(VP (VBD ate) (NP (DT a) (NN cookie)))\n",
      "5\n",
      "[u'the', u'cat', u'ate', u'a', u'cookie']\n",
      "(VP (VBD ate) (NP (DT a) (NN cookie)))\n",
      "(NP (DT a) (NN cookie))\n",
      "(DT a)\n",
      "Tree modification:\n",
      "(S\n",
      "  (NP (DT the) (JJ big) (NN cat))\n",
      "  (VP (VBD ate) (NP (DT a) (NN cookie))))\n",
      "(S\n",
      "  (NP (DT the) (JJ big) (NN cat))\n",
      "  (VP (VBD ate) (NP (DT a) (NN cake))))\n",
      "\n",
      "Collapse unary:\n",
      "(S\n",
      "  (NP (DT the) (JJ big) (NN cat))\n",
      "  (VP (VBD ate) (NP (DT a) (NN cake))))\n",
      "Chomsky normal form:\n",
      "(S\n",
      "  (NP (DT the) (NP|<JJ-NN> (JJ big) (NN cat)))\n",
      "  (VP (VBD ate) (NP (DT a) (NN cake))))\n",
      "\n",
      "Probabilistic Tree:\n",
      "(x y z) (p=0.5)\n",
      "\n",
      "Convert tree to bracketed string and back again:\n",
      "(S\n",
      "  (NP (DT the) (NP|<JJ-NN> (JJ big) (NN cat)))\n",
      "  (VP (VBD ate) (NP (DT a) (NN cake))))\n",
      "\n",
      "LaTeX output:\n",
      "\\Tree [.S\n",
      "        [.NP [.DT the ] [.NP|<JJ-NN> [.JJ big ] [.NN cat ] ] ]\n",
      "        [.VP [.VBD ate ] [.NP [.DT a ] [.NN cake ] ] ] ]\n",
      "\n",
      "Production output:\n",
      "[S -> NP VP, NP -> DT NP|<JJ-NN>, DT -> 'the', NP|<JJ-NN> -> JJ NN, JJ -> 'big', NN -> 'cat', VP -> VBD NP, VBD -> 'ate', NP -> DT NN, DT -> 'a', NN -> 'cake']\n",
      "\n",
      "((u'test', 3)\n",
      "  (NP (DT the) (NP|<JJ-NN> (JJ big) (NN cat)))\n",
      "  (VP (VBD ate) (NP (DT a) (NN cake))))\n"
     ]
    }
   ],
   "source": [
    "def CYKParser(grammar, tokens):\n",
    "    \n",
    "    nontems = set()\n",
    "    for rules in grammar.productions():\n",
    "        nontems.add(rules.lhs())\n",
    "        for j in rules.rhs(): nontems.add(j)\n",
    "    nontems = list(nontems)\n",
    "    nontems.sort()\n",
    "    \n",
    "    parse_tree = dict()\n",
    "    \n",
    "    n = len(tokens)\n",
    "    r = len(nontems)\n",
    "    \n",
    "    matrix = np.zeros((n, n, r), dtype=list)\n",
    "    \n",
    "    rules = grammar.productions()\n",
    "    \n",
    "    for i in range(n):\n",
    "        for rule in rules:\n",
    "            if len(rule.rhs()) == 1 and rules.rhs[0].symbol == tokens[i]:\n",
    "                matrix[i, i, nontems.index(rules.lhs())] = True\n",
    "    \n",
    "    for j in range(1, n):\n",
    "        for i in range(j - 1, -1, -1):\n",
    "            for k in range(i, j):\n",
    "                for rule in rules:\n",
    "                    if rule.rhs() == tuple(nontems[i], nontems[j]):\n",
    "                        matrix[i, j, nontems.index(rule.lhs())] = True\n",
    "            "
   ]
  },
  {
   "cell_type": "code",
   "execution_count": 17,
   "metadata": {},
   "outputs": [
    {
     "name": "stdout",
     "output_type": "stream",
     "text": [
      "0 10\n",
      "1 9\n",
      "2 8\n",
      "3 7\n",
      "4 6\n",
      "5 5\n",
      "6 4\n",
      "7 3\n",
      "8 2\n",
      "9 1\n"
     ]
    }
   ],
   "source": [
    "for k, l in enumerate(range(10, 0, -1)): print k, l"
   ]
  },
  {
   "cell_type": "code",
   "execution_count": 33,
   "metadata": {},
   "outputs": [
    {
     "data": {
      "text/plain": [
       "array([[[list([]), 0, 0, 0],\n",
       "        [0, 0, 0, 0],\n",
       "        [0, 0, 0, 0],\n",
       "        [0, 0, 0, 0],\n",
       "        [0, 0, 0, 0]],\n",
       "\n",
       "       [[0, 0, 0, 0],\n",
       "        [0, 0, 0, 0],\n",
       "        [0, 0, 0, 0],\n",
       "        [0, 0, 0, 0],\n",
       "        [0, 0, 0, 0]],\n",
       "\n",
       "       [[0, 0, 0, 0],\n",
       "        [0, 0, 0, 0],\n",
       "        [0, 0, 0, 0],\n",
       "        [0, 0, 0, 0],\n",
       "        [0, 0, 0, 0]],\n",
       "\n",
       "       [[0, 0, 0, 0],\n",
       "        [0, 0, 0, 0],\n",
       "        [0, 0, 0, 0],\n",
       "        [0, 0, 0, 0],\n",
       "        [0, 0, 0, 0]],\n",
       "\n",
       "       [[0, 0, 0, 0],\n",
       "        [0, 0, 0, 0],\n",
       "        [0, 0, 0, 0],\n",
       "        [0, 0, 0, 0],\n",
       "        [0, 0, 0, 0]]], dtype=object)"
      ]
     },
     "execution_count": 33,
     "metadata": {},
     "output_type": "execute_result"
    }
   ],
   "source": []
  },
  {
   "cell_type": "code",
   "execution_count": 20,
   "metadata": {},
   "outputs": [],
   "source": [
    "x = set()"
   ]
  },
  {
   "cell_type": "code",
   "execution_count": 24,
   "metadata": {},
   "outputs": [
    {
     "data": {
      "text/plain": [
       "str"
      ]
     },
     "execution_count": 24,
     "metadata": {},
     "output_type": "execute_result"
    }
   ],
   "source": [
    "type(str(CNF.start().symbol()))"
   ]
  },
  {
   "cell_type": "code",
   "execution_count": null,
   "metadata": {},
   "outputs": [],
   "source": []
  }
 ],
 "metadata": {
  "kernelspec": {
   "display_name": "Python 2",
   "language": "python",
   "name": "python2"
  },
  "language_info": {
   "codemirror_mode": {
    "name": "ipython",
    "version": 2
   },
   "file_extension": ".py",
   "mimetype": "text/x-python",
   "name": "python",
   "nbconvert_exporter": "python",
   "pygments_lexer": "ipython2",
   "version": "2.7.15"
  }
 },
 "nbformat": 4,
 "nbformat_minor": 2
}
